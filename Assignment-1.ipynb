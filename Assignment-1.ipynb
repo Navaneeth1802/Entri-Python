{
 "cells": [
  {
   "cell_type": "code",
   "execution_count": 1,
   "id": "0b3d1e0b-01a0-4bce-895e-320b3ae160fd",
   "metadata": {},
   "outputs": [
    {
     "name": "stdout",
     "output_type": "stream",
     "text": [
      "Navaneeth\n",
      "ST0018\n",
      "NR@gmail.com\n"
     ]
    }
   ],
   "source": [
    "#1code that prints name,studentnumber and email\n",
    "print(\"Navaneeth\")\n",
    "print(\"ST0018\")\n",
    "print(\"NR@gmail.com\")"
   ]
  },
  {
   "cell_type": "code",
   "execution_count": 43,
   "id": "44bd77dd-484d-45f1-8da2-0a79b8e90525",
   "metadata": {},
   "outputs": [
    {
     "name": "stdout",
     "output_type": "stream",
     "text": [
      "Name:\tNavaneeth R\n",
      "Student Number:\t56982\n",
      "Email:\tNavaneeth@example.com\n"
     ]
    }
   ],
   "source": [
    "#2\n",
    "print(\"Name:\\tNavaneeth R\\nStudent Number:\\t56982\\nEmail:\\tNavaneeth@example.com\")"
   ]
  },
  {
   "cell_type": "code",
   "execution_count": 13,
   "id": "1719c245-c93b-4b86-9450-4a5e32082505",
   "metadata": {},
   "outputs": [
    {
     "name": "stdin",
     "output_type": "stream",
     "text": [
      "Enter Num1 35\n",
      "Enter Num2 15\n"
     ]
    },
    {
     "name": "stdout",
     "output_type": "stream",
     "text": [
      "35 + 15 = 50\n",
      "35 - 15 = 20\n",
      "35 * 15 = 525\n",
      "35 / 15 = 2.3333333333333335\n"
     ]
    }
   ],
   "source": [
    "#3 Code tht add,subtrat and multiply 2 numbers\n",
    "Num1=int(input(\"Enter Num1\"))\n",
    "Num2=int(input(\"Enter Num2\"))\n",
    "add=Num1+Num2\n",
    "subtract=Num1-Num2\n",
    "multiply=Num1*Num2\n",
    "divide=Num1/Num2\n",
    "print(Num1,\"+\",Num2,\"=\",add)\n",
    "print(Num1,\"-\",Num2,\"=\",subtract)\n",
    "print(Num1,\"*\",Num2,\"=\",multiply)\n",
    "print(Num1,\"/\",Num2,\"=\",divide)"
   ]
  },
  {
   "cell_type": "code",
   "execution_count": 21,
   "id": "5c78847d-15fe-46ac-ae49-81ef8911b2a8",
   "metadata": {},
   "outputs": [
    {
     "name": "stdout",
     "output_type": "stream",
     "text": [
      "1 2 3 4 5 "
     ]
    }
   ],
   "source": [
    "#4Code that Pirnts numbers 1 to 5 as steps\n",
    "for i in range(1,6):\n",
    "    print(i,end=\" \")"
   ]
  },
  {
   "cell_type": "code",
   "execution_count": 45,
   "id": "fe7b5f3f-e481-407c-967d-f36c821355b6",
   "metadata": {},
   "outputs": [
    {
     "name": "stdout",
     "output_type": "stream",
     "text": [
      "An example run of the program:\n",
      "\"SDK\" stands for \"Software Development Kit\", whereas \"IDE\" stands for \"Integrated Development Environment\".\n"
     ]
    }
   ],
   "source": [
    "#5\n",
    "print('An example run of the program:\\n\"SDK\" stands for \"Software Development Kit\", whereas \"IDE\" stands for \"Integrated Development Environment\".')"
   ]
  },
  {
   "cell_type": "code",
   "execution_count": 23,
   "id": "39e69778-6610-402d-b989-f2974a01a823",
   "metadata": {},
   "outputs": [
    {
     "name": "stdout",
     "output_type": "stream",
     "text": [
      "python is an \"awesome\" language.\n",
      "python\n",
      "\t2023\n",
      "I'm from Entri\n",
      "5\n",
      "e\n",
      "Entri\n",
      "2023\n",
      "Entr2023\n",
      "Entri*20"
     ]
    }
   ],
   "source": [
    "#6 Practice and check the output\n",
    "print(\"python is an \\\"awesome\\\" language.\")\n",
    "print(\"python\\n\\t2023\") \n",
    "print('I\\'m from Entri.\\b')\n",
    "print(\"\\65\")\n",
    "print(\"\\x65\")\n",
    "print(\"Entri\", \"2023\", sep=\"\\n\")\n",
    "print(\"Entri\", \"2023\", sep=\"\\b\")\n",
    "print(\"Entri\", \"2023\", sep=\"*\", end=\"\\b\\b\\b\\b\") "
   ]
  },
  {
   "cell_type": "code",
   "execution_count": 27,
   "id": "d35232c4-cc2e-4b99-a941-c64068d578d5",
   "metadata": {},
   "outputs": [
    {
     "name": "stdout",
     "output_type": "stream",
     "text": [
      "<class 'int'>\n"
     ]
    }
   ],
   "source": [
    "#7 define varibles\n",
    "num=23\n",
    "textnum=\"57\"\n",
    "sums=num+int(textnum)\n",
    "print(type(sums))"
   ]
  },
  {
   "cell_type": "code",
   "execution_count": 31,
   "id": "aebcabf3-5fc5-4758-bf1d-4e1874e4649e",
   "metadata": {},
   "outputs": [
    {
     "name": "stdin",
     "output_type": "stream",
     "text": [
      "Enter no of days 360\n"
     ]
    },
    {
     "name": "stdout",
     "output_type": "stream",
     "text": [
      "Total_Minutes= 518400\n"
     ]
    }
   ],
   "source": [
    "#8\n",
    "no_of_days=int(input(\"Enter no of days\"))\n",
    "minutes_in_hour=60\n",
    "hours_in_day=24\n",
    "total_no_of_minutes=no_of_days*minutes_in_hour*hours_in_day\n",
    "print(\"Total_Minutes=\",total_no_of_minutes)\n"
   ]
  },
  {
   "cell_type": "code",
   "execution_count": 33,
   "id": "eeea80e8-aff8-42d8-904d-f33db55bff94",
   "metadata": {},
   "outputs": [
    {
     "name": "stdin",
     "output_type": "stream",
     "text": [
      "Enter your Name Arun\n"
     ]
    },
    {
     "name": "stdout",
     "output_type": "stream",
     "text": [
      "Hello Arun Good to see you..!\n"
     ]
    }
   ],
   "source": [
    "name=input(\"Enter your Name\")\n",
    "print(\"Hi\",name,\"Welcome back to Python..!\")"
   ]
  },
  {
   "cell_type": "code",
   "execution_count": 35,
   "id": "bd939cc7-9df9-4b2b-85ce-4586c14d5a93",
   "metadata": {},
   "outputs": [
    {
     "name": "stdin",
     "output_type": "stream",
     "text": [
      "Enter Money in pounds 1500\n"
     ]
    },
    {
     "name": "stdout",
     "output_type": "stream",
     "text": [
      "1500 E are $ 1890.0\n"
     ]
    }
   ],
   "source": [
    "Pounds=int(input(\"Enter Money in pounds\"))\n",
    "Dollars=1.26*Pounds\n",
    "print(Pounds,\"E\",\"are\",\"$\",Dollars)"
   ]
  },
  {
   "cell_type": "code",
   "execution_count": null,
   "id": "6396ab1c-423f-4cd8-9358-28dab4f8f08f",
   "metadata": {},
   "outputs": [],
   "source": []
  }
 ],
 "metadata": {
  "kernelspec": {
   "display_name": "Python 3 (ipykernel)",
   "language": "python",
   "name": "python3"
  },
  "language_info": {
   "codemirror_mode": {
    "name": "ipython",
    "version": 3
   },
   "file_extension": ".py",
   "mimetype": "text/x-python",
   "name": "python",
   "nbconvert_exporter": "python",
   "pygments_lexer": "ipython3",
   "version": "3.12.7"
  }
 },
 "nbformat": 4,
 "nbformat_minor": 5
}
