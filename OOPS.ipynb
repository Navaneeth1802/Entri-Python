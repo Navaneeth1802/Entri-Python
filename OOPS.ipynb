{
 "cells": [
  {
   "cell_type": "code",
   "execution_count": 3,
   "id": "65de80a9-5405-4f42-a1e2-adf8b2fd0ae6",
   "metadata": {},
   "outputs": [
    {
     "name": "stdout",
     "output_type": "stream",
     "text": [
      "Course Code: CS101, Course Name: Introduction to Computer Science, Credit Hours: 3\n",
      "Required for Major: True\n",
      "Course Code: LA201, Course Name: Liberal Arts 101, Credit Hours: 2\n",
      "Elective Type: liberal arts\n"
     ]
    }
   ],
   "source": [
    "class Course:\n",
    "    def __init__(self, course_code, course_name, credit_hours):\n",
    "        self.course_code = course_code\n",
    "        self.course_name = course_name\n",
    "        self.credit_hours = credit_hours\n",
    "\n",
    "    def display_info(self):\n",
    "        print(f\"Course Code: {self.course_code}, Course Name: {self.course_name}, Credit Hours: {self.credit_hours}\")\n",
    "\n",
    "\n",
    "class CoreCourse(Course):\n",
    "    def __init__(self, course_code, course_name, credit_hours, required_for_major):\n",
    "        super().__init__(course_code, course_name, credit_hours)\n",
    "        self.required_for_major = required_for_major\n",
    "\n",
    "    def display_info(self):\n",
    "        super().display_info()\n",
    "        print(f\"Required for Major: {self.required_for_major}\")\n",
    "\n",
    "\n",
    "class ElectiveCourse(Course):\n",
    "    def __init__(self, course_code, course_name, credit_hours, elective_type):\n",
    "        super().__init__(course_code, course_name, credit_hours)\n",
    "        self.elective_type = elective_type\n",
    "\n",
    "    def display_info(self):\n",
    "        super().display_info()\n",
    "        print(f\"Elective Type: {self.elective_type}\")\n",
    "\n",
    "\n",
    "# Example Usage for Question 1\n",
    "core = CoreCourse(\"CSA201\", \"Python For Data Science\", 3, True)\n",
    "elective = ElectiveCourse(\"EL256\", \"Liberal Arts 101\", 2, \"liberal arts\")\n",
    "\n",
    "core.display_info()\n",
    "elective.display_info()\n",
    "\n",
    "\n",
    "# Question 2: Employee Module\n"
   ]
  },
  {
   "cell_type": "code",
   "execution_count": null,
   "id": "3f8ff38c-f3ab-4504-9ee1-00a30731bba6",
   "metadata": {},
   "outputs": [],
   "source": [
    "\n",
    "# Example Usage for Question 1\n",
    "core = CoreCourse(\"CS101\", \"Introduction to Computer Science\", 3, True)\n",
    "elective = ElectiveCourse(\"LA201\", \"Liberal Arts 101\", 2, \"liberal arts\")\n",
    "\n",
    "core.display_info()\n",
    "elective.display_info()"
   ]
  },
  {
   "cell_type": "code",
   "execution_count": 1,
   "id": "3486850a-3edb-45ce-8dda-21d5d09683ea",
   "metadata": {},
   "outputs": [
    {
     "name": "stdout",
     "output_type": "stream",
     "text": [
      "Employee Name: Navaneth\n",
      "Employee Salary: 50000\n"
     ]
    }
   ],
   "source": [
    "class Employee:\n",
    "    def __init__(self, name, salary):\n",
    "        self.name = name\n",
    "        self.salary = salary\n",
    "\n",
    "    def get_name(self):\n",
    "        return self.name\n",
    "\n",
    "    def get_salary(self):\n",
    "        return self.salary\n",
    "\n",
    "\n",
    "# Example Usage for Question 2\n",
    "emp = Employee(\"Navaneth\", 50000)\n",
    "print(f\"Employee Name: {emp.get_name()}\")\n",
    "print(f\"Employee Salary: {emp.get_salary()}\")"
   ]
  },
  {
   "cell_type": "code",
   "execution_count": null,
   "id": "b667ca6e-8743-4ea5-b362-21ed5c910af0",
   "metadata": {},
   "outputs": [],
   "source": []
  }
 ],
 "metadata": {
  "kernelspec": {
   "display_name": "Python 3 (ipykernel)",
   "language": "python",
   "name": "python3"
  },
  "language_info": {
   "codemirror_mode": {
    "name": "ipython",
    "version": 3
   },
   "file_extension": ".py",
   "mimetype": "text/x-python",
   "name": "python",
   "nbconvert_exporter": "python",
   "pygments_lexer": "ipython3",
   "version": "3.12.7"
  }
 },
 "nbformat": 4,
 "nbformat_minor": 5
}
