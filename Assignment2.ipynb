{
 "cells": [
  {
   "cell_type": "code",
   "execution_count": 6,
   "id": "f700f1d7-3296-4016-9e21-dba1d602827b",
   "metadata": {},
   "outputs": [
    {
     "name": "stdout",
     "output_type": "stream",
     "text": [
      "List: [5, 25, 14, 36, 18]\n",
      "Updated List: [5, 25, 14, 36, 18, 101, 102, 103]\n",
      "5\n",
      "25\n",
      "14\n",
      "36\n",
      "18\n",
      "101\n",
      "102\n",
      "103\n"
     ]
    }
   ],
   "source": [
    "\n",
    "# Q1\n",
    "Numbers = [5,25,14,36,18]\n",
    "print(\"List:\", Numbers)\n",
    "\n",
    "# Q2: Insert 3 new values to the list and print the updated list.\n",
    "Numbers.extend([101, 102, 103])\n",
    "print(\"Updated List:\", Numbers)\n",
    "\n",
    "# Q3: Use a for loop to print each element in the list.\n",
    "for num in Numbers:\n",
    "    print(num)\n"
   ]
  },
  {
   "cell_type": "code",
   "execution_count": 12,
   "id": "1c3fdbc1-6f36-4701-9f3f-1b1e06de76da",
   "metadata": {},
   "outputs": [
    {
     "name": "stdout",
     "output_type": "stream",
     "text": [
      "Dictionary: {'name': 'Navaneeth', 'age': 22, 'address': 'Calicut'}\n",
      "Updated Dictionary: {'name': 'Navaneeth', 'age': 22, 'address': 'Calicut', 'phone': '162312152'}\n"
     ]
    }
   ],
   "source": [
    "# Q1dictionary with keys 'name', 'age', and 'address'.\n",
    "Person = {'name': 'Navaneeth', 'age': 22, 'address': 'Calicut'}\n",
    "print(\"Dictionary:\",Person)\n",
    "\n",
    "# Q2: Add a new key-value pair 'phone' to the dictionary.\n",
    "Person['phone'] = '162312152'\n",
    "print(\"Updated Dictionary:\",Person)"
   ]
  },
  {
   "cell_type": "code",
   "execution_count": 14,
   "id": "1cd0d4d6-3cb6-420e-93c8-22a503027b7b",
   "metadata": {},
   "outputs": [
    {
     "name": "stdout",
     "output_type": "stream",
     "text": [
      "Set: {1, 2, 3, 4, 5}\n",
      "Set after adding 6: {1, 2, 3, 4, 5, 6}\n",
      "Set after removing 3: {1, 2, 4, 5, 6}\n"
     ]
    }
   ],
   "source": [
    "# Q1:set with values 1, 2, 3, 4, and 5.\n",
    "Numbers = {1, 2, 3, 4, 5}\n",
    "print(\"Set:\",Numbers)\n",
    "\n",
    "# Q2: Adding value 6 to the set.\n",
    "Numbers.add(6)\n",
    "print(\"Set after adding 6:\",Numbers)\n",
    "\n",
    "# Q3: Removing the value 3 from the set.\n",
    "Numbers.discard(3)\n",
    "print(\"Set after removing 3:\",Numbers)"
   ]
  },
  {
   "cell_type": "code",
   "execution_count": 16,
   "id": "f5c1988c-93d3-4278-aee8-6518af650e18",
   "metadata": {},
   "outputs": [
    {
     "name": "stdout",
     "output_type": "stream",
     "text": [
      "Tuple: (1, 2, 3, 4)\n",
      "Length of tuple: 4\n"
     ]
    }
   ],
   "source": [
    "# Q1: Tuple with values 1, 2, 3, and 4.\n",
    "Numbers = (1, 2, 3, 4)\n",
    "print(\"Tuple:\",Numbers)\n",
    "\n",
    "# Q2: Print the length of the tuple.\n",
    "print(\"Length of tuple:\", len(Numbers))"
   ]
  },
  {
   "cell_type": "code",
   "execution_count": null,
   "id": "a87633b9-ea04-49ac-b8b3-1ab7925d142a",
   "metadata": {},
   "outputs": [],
   "source": []
  }
 ],
 "metadata": {
  "kernelspec": {
   "display_name": "Python 3 (ipykernel)",
   "language": "python",
   "name": "python3"
  },
  "language_info": {
   "codemirror_mode": {
    "name": "ipython",
    "version": 3
   },
   "file_extension": ".py",
   "mimetype": "text/x-python",
   "name": "python",
   "nbconvert_exporter": "python",
   "pygments_lexer": "ipython3",
   "version": "3.12.7"
  }
 },
 "nbformat": 4,
 "nbformat_minor": 5
}
