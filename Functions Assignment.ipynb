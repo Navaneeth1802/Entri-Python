{
 "cells": [
  {
   "cell_type": "markdown",
   "id": "d700fc36-526f-4c8d-90be-f0385b3bcda7",
   "metadata": {},
   "source": [
    "The len() function in Python is used to find the number of elements in an object, such as a list, tuple, string, or dictionary.\n",
    "# Using len() to "
   ]
  },
  {
   "cell_type": "code",
   "execution_count": null,
   "id": "5c8b498e-bed3-41c7-97e3-f8f278fe3630",
   "metadata": {},
   "outputs": [],
   "source": [
    "#Example\n",
    "numbers = [10, 20, 30, 40, 50]\n",
    "print(\"Length of the list:\", len(numbers))"
   ]
  },
  {
   "cell_type": "code",
   "execution_count": null,
   "id": "609e4a54-43fa-462a-ac73-6b52cdb84c5e",
   "metadata": {},
   "outputs": [],
   "source": [
    "#2\n",
    "def greet(name):\n",
    "    print(f\"Hello, {name}!\")\n",
    "    \n",
    "greet(\"Navaneeth\")"
   ]
  },
  {
   "cell_type": "code",
   "execution_count": 3,
   "id": "ac530552-e71b-4255-b481-273dd07075e9",
   "metadata": {},
   "outputs": [],
   "source": [
    "#3\n",
    "def find_maximum(numbers):\n",
    "    if not numbers: \n",
    "        return None\n",
    "    max_num = numbers[0]\n",
    "    for num in numbers:\n",
    "        if num > max_num:\n",
    "            max_num = num\n",
    "    return max_num"
   ]
  },
  {
   "cell_type": "code",
   "execution_count": 5,
   "id": "aa87472e-e3f7-4f5a-a539-3be3fb379b74",
   "metadata": {},
   "outputs": [
    {
     "name": "stdout",
     "output_type": "stream",
     "text": [
      "Maximum value: 10\n"
     ]
    }
   ],
   "source": [
    "numbers = [4, 7, 1, 9, 3, 10, 2]\n",
    "print(\"Maximum value:\", find_maximum(numbers))\n"
   ]
  },
  {
   "cell_type": "code",
   "execution_count": null,
   "id": "351f4279-6df3-4e00-a22a-cef1c9d475e4",
   "metadata": {},
   "outputs": [],
   "source": [
    "#4\n",
    "x = 10  # Global variable\n",
    "def test():\n",
    "    x = 5  # Local variable\n",
    "    print(\"Inside function, x =\", x)\n",
    "test()\n",
    "print(\"Outside function, x =\", x)\n"
   ]
  },
  {
   "cell_type": "markdown",
   "id": "87df1472-7b2d-43b6-afda-ef92032eb5fd",
   "metadata": {},
   "source": [
    "Local Variables: Defined inside a function and accessible only within that function.\n",
    "\n",
    "Global Variables: Defined outside a function and accessible throughout the script.\n",
    "\n",
    "Inside the function, x = 5 is a local variable and does not affect the global x.\n",
    "\n",
    "Outside the function, x = 10 remains unchanged."
   ]
  },
  {
   "cell_type": "code",
   "execution_count": 7,
   "id": "b17c5beb-5064-4628-aa25-18c12e5eec1c",
   "metadata": {},
   "outputs": [
    {
     "name": "stdout",
     "output_type": "stream",
     "text": [
      "Area with both length and width: 60\n",
      "Area with only length: 40\n"
     ]
    }
   ],
   "source": [
    "#5\n",
    "def calculate_area(length, width=5):\n",
    "    return length * width"
   ]
  },
  {
   "cell_type": "code",
   "execution_count": 9,
   "id": "e563dd53-5776-4bcb-a0c8-6306710c4501",
   "metadata": {},
   "outputs": [
    {
     "name": "stdout",
     "output_type": "stream",
     "text": [
      "Area with both length and width: 60\n",
      "Area with only length: 40\n"
     ]
    }
   ],
   "source": [
    "print(\"Area with both length and width:\", calculate_area(10, 6))\n",
    "print(\"Area with only length:\", calculate_area(8))\n"
   ]
  },
  {
   "cell_type": "markdown",
   "id": "5b0c031a-b51a-48f5-a868-e08f8db07388",
   "metadata": {},
   "source": [
    "if width is not given python takes the default argument value 5\n",
    "so in the first example we got 8(Value given)*5(default Value)=40\n",
    "\n",
    "in the 2nd Example we have provided both values so the deafult value wont be considered"
   ]
  },
  {
   "cell_type": "code",
   "execution_count": null,
   "id": "68ac4862-9357-451b-b730-70dc8d6f08c2",
   "metadata": {},
   "outputs": [],
   "source": []
  }
 ],
 "metadata": {
  "kernelspec": {
   "display_name": "Python 3 (ipykernel)",
   "language": "python",
   "name": "python3"
  },
  "language_info": {
   "codemirror_mode": {
    "name": "ipython",
    "version": 3
   },
   "file_extension": ".py",
   "mimetype": "text/x-python",
   "name": "python",
   "nbconvert_exporter": "python",
   "pygments_lexer": "ipython3",
   "version": "3.12.7"
  }
 },
 "nbformat": 4,
 "nbformat_minor": 5
}
